{
 "cells": [
  {
   "cell_type": "code",
   "execution_count": 20,
   "id": "4289593e",
   "metadata": {},
   "outputs": [],
   "source": [
    "import pandas as pd\n",
    "import numpy as np\n",
    "from scipy import stats"
   ]
  },
  {
   "cell_type": "code",
   "execution_count": 45,
   "id": "73fa9aaf",
   "metadata": {},
   "outputs": [],
   "source": [
    "data=pd.read_csv(\"Q7.csv\")"
   ]
  },
  {
   "cell_type": "code",
   "execution_count": 46,
   "id": "15665cf5",
   "metadata": {},
   "outputs": [
    {
     "data": {
      "text/html": [
       "<div>\n",
       "<style scoped>\n",
       "    .dataframe tbody tr th:only-of-type {\n",
       "        vertical-align: middle;\n",
       "    }\n",
       "\n",
       "    .dataframe tbody tr th {\n",
       "        vertical-align: top;\n",
       "    }\n",
       "\n",
       "    .dataframe thead th {\n",
       "        text-align: right;\n",
       "    }\n",
       "</style>\n",
       "<table border=\"1\" class=\"dataframe\">\n",
       "  <thead>\n",
       "    <tr style=\"text-align: right;\">\n",
       "      <th></th>\n",
       "      <th>Unnamed: 0</th>\n",
       "      <th>Points</th>\n",
       "      <th>Score</th>\n",
       "      <th>Weigh</th>\n",
       "    </tr>\n",
       "  </thead>\n",
       "  <tbody>\n",
       "    <tr>\n",
       "      <th>0</th>\n",
       "      <td>Mazda RX4</td>\n",
       "      <td>3.9000</td>\n",
       "      <td>2.6200</td>\n",
       "      <td>16.4600</td>\n",
       "    </tr>\n",
       "    <tr>\n",
       "      <th>1</th>\n",
       "      <td>Mazda RX4 Wag</td>\n",
       "      <td>3.9000</td>\n",
       "      <td>2.8750</td>\n",
       "      <td>17.0200</td>\n",
       "    </tr>\n",
       "    <tr>\n",
       "      <th>2</th>\n",
       "      <td>Datsun 710</td>\n",
       "      <td>3.8500</td>\n",
       "      <td>2.3200</td>\n",
       "      <td>18.6100</td>\n",
       "    </tr>\n",
       "    <tr>\n",
       "      <th>3</th>\n",
       "      <td>Hornet 4 Drive</td>\n",
       "      <td>3.0800</td>\n",
       "      <td>3.2150</td>\n",
       "      <td>19.4400</td>\n",
       "    </tr>\n",
       "    <tr>\n",
       "      <th>4</th>\n",
       "      <td>Hornet Sportabout</td>\n",
       "      <td>3.1500</td>\n",
       "      <td>3.4400</td>\n",
       "      <td>17.0200</td>\n",
       "    </tr>\n",
       "    <tr>\n",
       "      <th>5</th>\n",
       "      <td>Valiant</td>\n",
       "      <td>2.7600</td>\n",
       "      <td>3.4600</td>\n",
       "      <td>20.2200</td>\n",
       "    </tr>\n",
       "    <tr>\n",
       "      <th>6</th>\n",
       "      <td>Duster 360</td>\n",
       "      <td>3.2100</td>\n",
       "      <td>3.5700</td>\n",
       "      <td>15.8400</td>\n",
       "    </tr>\n",
       "    <tr>\n",
       "      <th>7</th>\n",
       "      <td>Merc 240D</td>\n",
       "      <td>3.6900</td>\n",
       "      <td>3.1900</td>\n",
       "      <td>20.0000</td>\n",
       "    </tr>\n",
       "    <tr>\n",
       "      <th>8</th>\n",
       "      <td>Merc 230</td>\n",
       "      <td>3.9200</td>\n",
       "      <td>3.1500</td>\n",
       "      <td>22.9000</td>\n",
       "    </tr>\n",
       "    <tr>\n",
       "      <th>9</th>\n",
       "      <td>Merc 280</td>\n",
       "      <td>3.9200</td>\n",
       "      <td>3.4400</td>\n",
       "      <td>18.3000</td>\n",
       "    </tr>\n",
       "    <tr>\n",
       "      <th>10</th>\n",
       "      <td>Merc 280C</td>\n",
       "      <td>3.9200</td>\n",
       "      <td>3.4400</td>\n",
       "      <td>18.9000</td>\n",
       "    </tr>\n",
       "    <tr>\n",
       "      <th>11</th>\n",
       "      <td>Merc 450SE</td>\n",
       "      <td>3.0700</td>\n",
       "      <td>4.0700</td>\n",
       "      <td>17.4000</td>\n",
       "    </tr>\n",
       "    <tr>\n",
       "      <th>12</th>\n",
       "      <td>Merc 450SL</td>\n",
       "      <td>3.0700</td>\n",
       "      <td>3.7300</td>\n",
       "      <td>17.6000</td>\n",
       "    </tr>\n",
       "    <tr>\n",
       "      <th>13</th>\n",
       "      <td>Merc 450SLC</td>\n",
       "      <td>3.0700</td>\n",
       "      <td>3.7800</td>\n",
       "      <td>18.0000</td>\n",
       "    </tr>\n",
       "    <tr>\n",
       "      <th>14</th>\n",
       "      <td>Cadillac Fleetwood</td>\n",
       "      <td>2.9300</td>\n",
       "      <td>5.2500</td>\n",
       "      <td>17.9800</td>\n",
       "    </tr>\n",
       "    <tr>\n",
       "      <th>15</th>\n",
       "      <td>Lincoln Continental</td>\n",
       "      <td>3.0000</td>\n",
       "      <td>5.4240</td>\n",
       "      <td>17.8200</td>\n",
       "    </tr>\n",
       "    <tr>\n",
       "      <th>16</th>\n",
       "      <td>Chrysler Imperial</td>\n",
       "      <td>3.2300</td>\n",
       "      <td>5.3450</td>\n",
       "      <td>17.4200</td>\n",
       "    </tr>\n",
       "    <tr>\n",
       "      <th>17</th>\n",
       "      <td>Fiat 128</td>\n",
       "      <td>4.0800</td>\n",
       "      <td>2.2000</td>\n",
       "      <td>19.4700</td>\n",
       "    </tr>\n",
       "    <tr>\n",
       "      <th>18</th>\n",
       "      <td>Honda Civic</td>\n",
       "      <td>4.9300</td>\n",
       "      <td>1.6150</td>\n",
       "      <td>18.5200</td>\n",
       "    </tr>\n",
       "    <tr>\n",
       "      <th>19</th>\n",
       "      <td>Toyota Corolla</td>\n",
       "      <td>4.2200</td>\n",
       "      <td>1.8350</td>\n",
       "      <td>19.9000</td>\n",
       "    </tr>\n",
       "    <tr>\n",
       "      <th>20</th>\n",
       "      <td>Toyota Corona</td>\n",
       "      <td>3.7000</td>\n",
       "      <td>2.4650</td>\n",
       "      <td>20.0100</td>\n",
       "    </tr>\n",
       "    <tr>\n",
       "      <th>21</th>\n",
       "      <td>Dodge Challenger</td>\n",
       "      <td>2.7600</td>\n",
       "      <td>3.5200</td>\n",
       "      <td>16.8700</td>\n",
       "    </tr>\n",
       "    <tr>\n",
       "      <th>22</th>\n",
       "      <td>AMC Javelin</td>\n",
       "      <td>3.1500</td>\n",
       "      <td>3.4350</td>\n",
       "      <td>17.3000</td>\n",
       "    </tr>\n",
       "    <tr>\n",
       "      <th>23</th>\n",
       "      <td>Camaro Z28</td>\n",
       "      <td>3.7300</td>\n",
       "      <td>3.8400</td>\n",
       "      <td>15.4100</td>\n",
       "    </tr>\n",
       "    <tr>\n",
       "      <th>24</th>\n",
       "      <td>Pontiac Firebird</td>\n",
       "      <td>3.0800</td>\n",
       "      <td>3.8450</td>\n",
       "      <td>17.0500</td>\n",
       "    </tr>\n",
       "    <tr>\n",
       "      <th>25</th>\n",
       "      <td>Fiat X1-9</td>\n",
       "      <td>4.0800</td>\n",
       "      <td>1.9350</td>\n",
       "      <td>18.9000</td>\n",
       "    </tr>\n",
       "    <tr>\n",
       "      <th>26</th>\n",
       "      <td>Porsche 914-2</td>\n",
       "      <td>4.4300</td>\n",
       "      <td>2.1400</td>\n",
       "      <td>16.7000</td>\n",
       "    </tr>\n",
       "    <tr>\n",
       "      <th>27</th>\n",
       "      <td>Lotus Europa</td>\n",
       "      <td>3.7700</td>\n",
       "      <td>1.5130</td>\n",
       "      <td>16.9000</td>\n",
       "    </tr>\n",
       "    <tr>\n",
       "      <th>28</th>\n",
       "      <td>Ford Pantera L</td>\n",
       "      <td>4.2200</td>\n",
       "      <td>3.1700</td>\n",
       "      <td>14.5000</td>\n",
       "    </tr>\n",
       "    <tr>\n",
       "      <th>29</th>\n",
       "      <td>Ferrari Dino</td>\n",
       "      <td>3.6200</td>\n",
       "      <td>2.7700</td>\n",
       "      <td>15.5000</td>\n",
       "    </tr>\n",
       "    <tr>\n",
       "      <th>30</th>\n",
       "      <td>Maserati Bora</td>\n",
       "      <td>3.5400</td>\n",
       "      <td>3.5700</td>\n",
       "      <td>14.6000</td>\n",
       "    </tr>\n",
       "    <tr>\n",
       "      <th>31</th>\n",
       "      <td>Volvo 142E</td>\n",
       "      <td>4.1100</td>\n",
       "      <td>2.7800</td>\n",
       "      <td>18.6000</td>\n",
       "    </tr>\n",
       "    <tr>\n",
       "      <th>32</th>\n",
       "      <td>Mean</td>\n",
       "      <td>3.5966</td>\n",
       "      <td>3.2173</td>\n",
       "      <td>17.8488</td>\n",
       "    </tr>\n",
       "    <tr>\n",
       "      <th>33</th>\n",
       "      <td>Median</td>\n",
       "      <td>3.6950</td>\n",
       "      <td>3.3250</td>\n",
       "      <td>17.7100</td>\n",
       "    </tr>\n",
       "    <tr>\n",
       "      <th>34</th>\n",
       "      <td>Mode</td>\n",
       "      <td>3.9200</td>\n",
       "      <td>3.4400</td>\n",
       "      <td>17.0200</td>\n",
       "    </tr>\n",
       "    <tr>\n",
       "      <th>35</th>\n",
       "      <td>Range</td>\n",
       "      <td>2.1700</td>\n",
       "      <td>3.9110</td>\n",
       "      <td>8.4000</td>\n",
       "    </tr>\n",
       "    <tr>\n",
       "      <th>36</th>\n",
       "      <td>Variance</td>\n",
       "      <td>0.2769</td>\n",
       "      <td>0.9275</td>\n",
       "      <td>3.0934</td>\n",
       "    </tr>\n",
       "    <tr>\n",
       "      <th>37</th>\n",
       "      <td>Standard Deviation</td>\n",
       "      <td>0.5263</td>\n",
       "      <td>0.9630</td>\n",
       "      <td>1.7588</td>\n",
       "    </tr>\n",
       "  </tbody>\n",
       "</table>\n",
       "</div>"
      ],
      "text/plain": [
       "             Unnamed: 0  Points   Score    Weigh\n",
       "0             Mazda RX4  3.9000  2.6200  16.4600\n",
       "1         Mazda RX4 Wag  3.9000  2.8750  17.0200\n",
       "2            Datsun 710  3.8500  2.3200  18.6100\n",
       "3        Hornet 4 Drive  3.0800  3.2150  19.4400\n",
       "4     Hornet Sportabout  3.1500  3.4400  17.0200\n",
       "5               Valiant  2.7600  3.4600  20.2200\n",
       "6            Duster 360  3.2100  3.5700  15.8400\n",
       "7             Merc 240D  3.6900  3.1900  20.0000\n",
       "8              Merc 230  3.9200  3.1500  22.9000\n",
       "9              Merc 280  3.9200  3.4400  18.3000\n",
       "10            Merc 280C  3.9200  3.4400  18.9000\n",
       "11           Merc 450SE  3.0700  4.0700  17.4000\n",
       "12           Merc 450SL  3.0700  3.7300  17.6000\n",
       "13          Merc 450SLC  3.0700  3.7800  18.0000\n",
       "14   Cadillac Fleetwood  2.9300  5.2500  17.9800\n",
       "15  Lincoln Continental  3.0000  5.4240  17.8200\n",
       "16    Chrysler Imperial  3.2300  5.3450  17.4200\n",
       "17             Fiat 128  4.0800  2.2000  19.4700\n",
       "18          Honda Civic  4.9300  1.6150  18.5200\n",
       "19       Toyota Corolla  4.2200  1.8350  19.9000\n",
       "20        Toyota Corona  3.7000  2.4650  20.0100\n",
       "21     Dodge Challenger  2.7600  3.5200  16.8700\n",
       "22          AMC Javelin  3.1500  3.4350  17.3000\n",
       "23           Camaro Z28  3.7300  3.8400  15.4100\n",
       "24     Pontiac Firebird  3.0800  3.8450  17.0500\n",
       "25            Fiat X1-9  4.0800  1.9350  18.9000\n",
       "26        Porsche 914-2  4.4300  2.1400  16.7000\n",
       "27         Lotus Europa  3.7700  1.5130  16.9000\n",
       "28       Ford Pantera L  4.2200  3.1700  14.5000\n",
       "29         Ferrari Dino  3.6200  2.7700  15.5000\n",
       "30        Maserati Bora  3.5400  3.5700  14.6000\n",
       "31           Volvo 142E  4.1100  2.7800  18.6000\n",
       "32                 Mean  3.5966  3.2173  17.8488\n",
       "33               Median  3.6950  3.3250  17.7100\n",
       "34                 Mode  3.9200  3.4400  17.0200\n",
       "35                Range  2.1700  3.9110   8.4000\n",
       "36             Variance  0.2769  0.9275   3.0934\n",
       "37   Standard Deviation  0.5263  0.9630   1.7588"
      ]
     },
     "execution_count": 46,
     "metadata": {},
     "output_type": "execute_result"
    }
   ],
   "source": [
    "data"
   ]
  },
  {
   "cell_type": "code",
   "execution_count": 47,
   "id": "c81a8894",
   "metadata": {},
   "outputs": [],
   "source": [
    "data.drop('Unnamed: 0', inplace=True, axis=1)"
   ]
  },
  {
   "cell_type": "code",
   "execution_count": 48,
   "id": "b6142240",
   "metadata": {},
   "outputs": [
    {
     "data": {
      "text/html": [
       "<div>\n",
       "<style scoped>\n",
       "    .dataframe tbody tr th:only-of-type {\n",
       "        vertical-align: middle;\n",
       "    }\n",
       "\n",
       "    .dataframe tbody tr th {\n",
       "        vertical-align: top;\n",
       "    }\n",
       "\n",
       "    .dataframe thead th {\n",
       "        text-align: right;\n",
       "    }\n",
       "</style>\n",
       "<table border=\"1\" class=\"dataframe\">\n",
       "  <thead>\n",
       "    <tr style=\"text-align: right;\">\n",
       "      <th></th>\n",
       "      <th>Points</th>\n",
       "      <th>Score</th>\n",
       "      <th>Weigh</th>\n",
       "    </tr>\n",
       "  </thead>\n",
       "  <tbody>\n",
       "    <tr>\n",
       "      <th>0</th>\n",
       "      <td>3.9000</td>\n",
       "      <td>2.6200</td>\n",
       "      <td>16.4600</td>\n",
       "    </tr>\n",
       "    <tr>\n",
       "      <th>1</th>\n",
       "      <td>3.9000</td>\n",
       "      <td>2.8750</td>\n",
       "      <td>17.0200</td>\n",
       "    </tr>\n",
       "    <tr>\n",
       "      <th>2</th>\n",
       "      <td>3.8500</td>\n",
       "      <td>2.3200</td>\n",
       "      <td>18.6100</td>\n",
       "    </tr>\n",
       "    <tr>\n",
       "      <th>3</th>\n",
       "      <td>3.0800</td>\n",
       "      <td>3.2150</td>\n",
       "      <td>19.4400</td>\n",
       "    </tr>\n",
       "    <tr>\n",
       "      <th>4</th>\n",
       "      <td>3.1500</td>\n",
       "      <td>3.4400</td>\n",
       "      <td>17.0200</td>\n",
       "    </tr>\n",
       "    <tr>\n",
       "      <th>5</th>\n",
       "      <td>2.7600</td>\n",
       "      <td>3.4600</td>\n",
       "      <td>20.2200</td>\n",
       "    </tr>\n",
       "    <tr>\n",
       "      <th>6</th>\n",
       "      <td>3.2100</td>\n",
       "      <td>3.5700</td>\n",
       "      <td>15.8400</td>\n",
       "    </tr>\n",
       "    <tr>\n",
       "      <th>7</th>\n",
       "      <td>3.6900</td>\n",
       "      <td>3.1900</td>\n",
       "      <td>20.0000</td>\n",
       "    </tr>\n",
       "    <tr>\n",
       "      <th>8</th>\n",
       "      <td>3.9200</td>\n",
       "      <td>3.1500</td>\n",
       "      <td>22.9000</td>\n",
       "    </tr>\n",
       "    <tr>\n",
       "      <th>9</th>\n",
       "      <td>3.9200</td>\n",
       "      <td>3.4400</td>\n",
       "      <td>18.3000</td>\n",
       "    </tr>\n",
       "    <tr>\n",
       "      <th>10</th>\n",
       "      <td>3.9200</td>\n",
       "      <td>3.4400</td>\n",
       "      <td>18.9000</td>\n",
       "    </tr>\n",
       "    <tr>\n",
       "      <th>11</th>\n",
       "      <td>3.0700</td>\n",
       "      <td>4.0700</td>\n",
       "      <td>17.4000</td>\n",
       "    </tr>\n",
       "    <tr>\n",
       "      <th>12</th>\n",
       "      <td>3.0700</td>\n",
       "      <td>3.7300</td>\n",
       "      <td>17.6000</td>\n",
       "    </tr>\n",
       "    <tr>\n",
       "      <th>13</th>\n",
       "      <td>3.0700</td>\n",
       "      <td>3.7800</td>\n",
       "      <td>18.0000</td>\n",
       "    </tr>\n",
       "    <tr>\n",
       "      <th>14</th>\n",
       "      <td>2.9300</td>\n",
       "      <td>5.2500</td>\n",
       "      <td>17.9800</td>\n",
       "    </tr>\n",
       "    <tr>\n",
       "      <th>15</th>\n",
       "      <td>3.0000</td>\n",
       "      <td>5.4240</td>\n",
       "      <td>17.8200</td>\n",
       "    </tr>\n",
       "    <tr>\n",
       "      <th>16</th>\n",
       "      <td>3.2300</td>\n",
       "      <td>5.3450</td>\n",
       "      <td>17.4200</td>\n",
       "    </tr>\n",
       "    <tr>\n",
       "      <th>17</th>\n",
       "      <td>4.0800</td>\n",
       "      <td>2.2000</td>\n",
       "      <td>19.4700</td>\n",
       "    </tr>\n",
       "    <tr>\n",
       "      <th>18</th>\n",
       "      <td>4.9300</td>\n",
       "      <td>1.6150</td>\n",
       "      <td>18.5200</td>\n",
       "    </tr>\n",
       "    <tr>\n",
       "      <th>19</th>\n",
       "      <td>4.2200</td>\n",
       "      <td>1.8350</td>\n",
       "      <td>19.9000</td>\n",
       "    </tr>\n",
       "    <tr>\n",
       "      <th>20</th>\n",
       "      <td>3.7000</td>\n",
       "      <td>2.4650</td>\n",
       "      <td>20.0100</td>\n",
       "    </tr>\n",
       "    <tr>\n",
       "      <th>21</th>\n",
       "      <td>2.7600</td>\n",
       "      <td>3.5200</td>\n",
       "      <td>16.8700</td>\n",
       "    </tr>\n",
       "    <tr>\n",
       "      <th>22</th>\n",
       "      <td>3.1500</td>\n",
       "      <td>3.4350</td>\n",
       "      <td>17.3000</td>\n",
       "    </tr>\n",
       "    <tr>\n",
       "      <th>23</th>\n",
       "      <td>3.7300</td>\n",
       "      <td>3.8400</td>\n",
       "      <td>15.4100</td>\n",
       "    </tr>\n",
       "    <tr>\n",
       "      <th>24</th>\n",
       "      <td>3.0800</td>\n",
       "      <td>3.8450</td>\n",
       "      <td>17.0500</td>\n",
       "    </tr>\n",
       "    <tr>\n",
       "      <th>25</th>\n",
       "      <td>4.0800</td>\n",
       "      <td>1.9350</td>\n",
       "      <td>18.9000</td>\n",
       "    </tr>\n",
       "    <tr>\n",
       "      <th>26</th>\n",
       "      <td>4.4300</td>\n",
       "      <td>2.1400</td>\n",
       "      <td>16.7000</td>\n",
       "    </tr>\n",
       "    <tr>\n",
       "      <th>27</th>\n",
       "      <td>3.7700</td>\n",
       "      <td>1.5130</td>\n",
       "      <td>16.9000</td>\n",
       "    </tr>\n",
       "    <tr>\n",
       "      <th>28</th>\n",
       "      <td>4.2200</td>\n",
       "      <td>3.1700</td>\n",
       "      <td>14.5000</td>\n",
       "    </tr>\n",
       "    <tr>\n",
       "      <th>29</th>\n",
       "      <td>3.6200</td>\n",
       "      <td>2.7700</td>\n",
       "      <td>15.5000</td>\n",
       "    </tr>\n",
       "    <tr>\n",
       "      <th>30</th>\n",
       "      <td>3.5400</td>\n",
       "      <td>3.5700</td>\n",
       "      <td>14.6000</td>\n",
       "    </tr>\n",
       "    <tr>\n",
       "      <th>31</th>\n",
       "      <td>4.1100</td>\n",
       "      <td>2.7800</td>\n",
       "      <td>18.6000</td>\n",
       "    </tr>\n",
       "    <tr>\n",
       "      <th>32</th>\n",
       "      <td>3.5966</td>\n",
       "      <td>3.2173</td>\n",
       "      <td>17.8488</td>\n",
       "    </tr>\n",
       "    <tr>\n",
       "      <th>33</th>\n",
       "      <td>3.6950</td>\n",
       "      <td>3.3250</td>\n",
       "      <td>17.7100</td>\n",
       "    </tr>\n",
       "    <tr>\n",
       "      <th>34</th>\n",
       "      <td>3.9200</td>\n",
       "      <td>3.4400</td>\n",
       "      <td>17.0200</td>\n",
       "    </tr>\n",
       "    <tr>\n",
       "      <th>35</th>\n",
       "      <td>2.1700</td>\n",
       "      <td>3.9110</td>\n",
       "      <td>8.4000</td>\n",
       "    </tr>\n",
       "    <tr>\n",
       "      <th>36</th>\n",
       "      <td>0.2769</td>\n",
       "      <td>0.9275</td>\n",
       "      <td>3.0934</td>\n",
       "    </tr>\n",
       "    <tr>\n",
       "      <th>37</th>\n",
       "      <td>0.5263</td>\n",
       "      <td>0.9630</td>\n",
       "      <td>1.7588</td>\n",
       "    </tr>\n",
       "  </tbody>\n",
       "</table>\n",
       "</div>"
      ],
      "text/plain": [
       "    Points   Score    Weigh\n",
       "0   3.9000  2.6200  16.4600\n",
       "1   3.9000  2.8750  17.0200\n",
       "2   3.8500  2.3200  18.6100\n",
       "3   3.0800  3.2150  19.4400\n",
       "4   3.1500  3.4400  17.0200\n",
       "5   2.7600  3.4600  20.2200\n",
       "6   3.2100  3.5700  15.8400\n",
       "7   3.6900  3.1900  20.0000\n",
       "8   3.9200  3.1500  22.9000\n",
       "9   3.9200  3.4400  18.3000\n",
       "10  3.9200  3.4400  18.9000\n",
       "11  3.0700  4.0700  17.4000\n",
       "12  3.0700  3.7300  17.6000\n",
       "13  3.0700  3.7800  18.0000\n",
       "14  2.9300  5.2500  17.9800\n",
       "15  3.0000  5.4240  17.8200\n",
       "16  3.2300  5.3450  17.4200\n",
       "17  4.0800  2.2000  19.4700\n",
       "18  4.9300  1.6150  18.5200\n",
       "19  4.2200  1.8350  19.9000\n",
       "20  3.7000  2.4650  20.0100\n",
       "21  2.7600  3.5200  16.8700\n",
       "22  3.1500  3.4350  17.3000\n",
       "23  3.7300  3.8400  15.4100\n",
       "24  3.0800  3.8450  17.0500\n",
       "25  4.0800  1.9350  18.9000\n",
       "26  4.4300  2.1400  16.7000\n",
       "27  3.7700  1.5130  16.9000\n",
       "28  4.2200  3.1700  14.5000\n",
       "29  3.6200  2.7700  15.5000\n",
       "30  3.5400  3.5700  14.6000\n",
       "31  4.1100  2.7800  18.6000\n",
       "32  3.5966  3.2173  17.8488\n",
       "33  3.6950  3.3250  17.7100\n",
       "34  3.9200  3.4400  17.0200\n",
       "35  2.1700  3.9110   8.4000\n",
       "36  0.2769  0.9275   3.0934\n",
       "37  0.5263  0.9630   1.7588"
      ]
     },
     "execution_count": 48,
     "metadata": {},
     "output_type": "execute_result"
    }
   ],
   "source": [
    "data"
   ]
  },
  {
   "cell_type": "code",
   "execution_count": 49,
   "id": "479f1a32",
   "metadata": {},
   "outputs": [
    {
     "data": {
      "text/plain": [
       "Points     3.401968\n",
       "Score      3.124626\n",
       "Weigh     16.762921\n",
       "dtype: float64"
      ]
     },
     "execution_count": 49,
     "metadata": {},
     "output_type": "execute_result"
    }
   ],
   "source": [
    "data.mean()"
   ]
  },
  {
   "cell_type": "code",
   "execution_count": 50,
   "id": "21fa4d5b",
   "metadata": {},
   "outputs": [
    {
     "data": {
      "text/plain": [
       "Points     3.65500\n",
       "Score      3.27115\n",
       "Weigh     17.51000\n",
       "dtype: float64"
      ]
     },
     "execution_count": 50,
     "metadata": {},
     "output_type": "execute_result"
    }
   ],
   "source": [
    "data.median()"
   ]
  },
  {
   "cell_type": "code",
   "execution_count": 51,
   "id": "5fdef66d",
   "metadata": {},
   "outputs": [
    {
     "name": "stderr",
     "output_type": "stream",
     "text": [
      "C:\\Users\\Varun\\AppData\\Local\\Temp\\ipykernel_1892\\3267261142.py:1: FutureWarning: Unlike other reduction functions (e.g. `skew`, `kurtosis`), the default behavior of `mode` typically preserves the axis it acts along. In SciPy 1.11.0, this behavior will change: the default value of `keepdims` will become False, the `axis` over which the statistic is taken will be eliminated, and the value None will no longer be accepted. Set `keepdims` to True or False to avoid this warning.\n",
      "  stats.mode(data)\n"
     ]
    },
    {
     "data": {
      "text/plain": [
       "ModeResult(mode=array([[ 3.92,  3.44, 17.02]]), count=array([[4, 4, 3]]))"
      ]
     },
     "execution_count": 51,
     "metadata": {},
     "output_type": "execute_result"
    }
   ],
   "source": [
    "stats.mode(data)"
   ]
  },
  {
   "cell_type": "code",
   "execution_count": 52,
   "id": "dd0907ed",
   "metadata": {},
   "outputs": [
    {
     "data": {
      "text/plain": [
       "Points     0.789985\n",
       "Score      1.058417\n",
       "Weigh     16.336237\n",
       "dtype: float64"
      ]
     },
     "execution_count": 52,
     "metadata": {},
     "output_type": "execute_result"
    }
   ],
   "source": [
    "np.var(data)"
   ]
  },
  {
   "cell_type": "code",
   "execution_count": 53,
   "id": "2c39a151",
   "metadata": {},
   "outputs": [
    {
     "data": {
      "text/plain": [
       "Points    0.888811\n",
       "Score     1.028794\n",
       "Weigh     4.041811\n",
       "dtype: float64"
      ]
     },
     "execution_count": 53,
     "metadata": {},
     "output_type": "execute_result"
    }
   ],
   "source": [
    "np.std(data)"
   ]
  },
  {
   "cell_type": "code",
   "execution_count": 54,
   "id": "93113c03",
   "metadata": {},
   "outputs": [
    {
     "name": "stderr",
     "output_type": "stream",
     "text": [
      "C:\\Users\\Varun\\anaconda3\\lib\\site-packages\\numpy\\core\\_methods.py:276: FutureWarning: In a future version, DataFrame.max(axis=None) will return a scalar max over the entire DataFrame. To retain the old behavior, use 'frame.max(axis=0)' or just 'frame.max()'\n",
      "  umr_maximum(a, axis, None, out, keepdims),\n",
      "C:\\Users\\Varun\\anaconda3\\lib\\site-packages\\numpy\\core\\_methods.py:277: FutureWarning: In a future version, DataFrame.min(axis=None) will return a scalar min over the entire DataFrame. To retain the old behavior, use 'frame.min(axis=0)' or just 'frame.min()'\n",
      "  umr_minimum(a, axis, None, None, keepdims),\n"
     ]
    },
    {
     "data": {
      "text/plain": [
       "Points     4.6531\n",
       "Score      4.4965\n",
       "Weigh     21.1412\n",
       "dtype: float64"
      ]
     },
     "execution_count": 54,
     "metadata": {},
     "output_type": "execute_result"
    }
   ],
   "source": [
    "np.ptp(data)"
   ]
  },
  {
   "cell_type": "markdown",
   "id": "acbfea35",
   "metadata": {},
   "source": [
    "#### Q11)  \n",
    "Suppose we want to estimate the average weight of an adult male in    Mexico. We draw a random sample of 2,000 men from a population of 3,000,000 men and weigh them. We find that the average person in our sample weighs 200 pounds, and the standard deviation of the sample is 30 pounds. Calculate 94%,98%,96% confidence interval?"
   ]
  },
  {
   "cell_type": "code",
   "execution_count": 1,
   "id": "1398965f",
   "metadata": {},
   "outputs": [
    {
     "name": "stdout",
     "output_type": "stream",
     "text": [
      "Lower Bound: 143.57619175546247; Upper Bound: 256.42380824453755\n",
      "Z- = -1.880793608151251; Z+ = 1.8807936081512509\n"
     ]
    }
   ],
   "source": [
    "from scipy.stats import norm, t\n",
    "import numpy as np\n",
    "\n",
    "n = 2000\n",
    "x_bar = 200\n",
    "s = 30\n",
    "\n",
    "nppf_lower = norm.ppf(0.03, x_bar, s)\n",
    "nppf_upper = norm.ppf(0.97, x_bar, s)\n",
    "print(\"Lower Bound: {}; Upper Bound: {}\".format(nppf_lower, nppf_upper))\n",
    "print(\"Z- = {}; Z+ = {}\".format(norm.ppf(0.03), norm.ppf(0.97)))"
   ]
  },
  {
   "cell_type": "code",
   "execution_count": 2,
   "id": "0bbaf0b6",
   "metadata": {},
   "outputs": [
    {
     "name": "stdout",
     "output_type": "stream",
     "text": [
      "t- = -2.3282147761069725; t+ = 2.328214776106972\n"
     ]
    }
   ],
   "source": [
    "print(\"t- = {}; t+ = {}\".format(t.ppf(0.01,(n-1)), t.ppf(0.99,(n-1))))"
   ]
  },
  {
   "cell_type": "code",
   "execution_count": 3,
   "id": "879b2d9f",
   "metadata": {},
   "outputs": [
    {
     "data": {
      "text/plain": [
       "(198.4381860483216, 201.5618139516784)"
      ]
     },
     "execution_count": 3,
     "metadata": {},
     "output_type": "execute_result"
    }
   ],
   "source": [
    "# from scipy.stats import t\n",
    "t.interval(confidence = 0.98, df=1999, loc=200, scale=30/np.sqrt(2000))"
   ]
  },
  {
   "cell_type": "markdown",
   "id": "500f9824",
   "metadata": {},
   "source": [
    "#### Q12)  \n",
    "Below are the scores obtained by a student in tests \n",
    "    \n",
    "    [34,36,36,38,38,39,39,40,40,41,41,41,41,42,42,45,49,56]\n",
    "\n",
    "    1) Find mean, median, variance, standard deviation.\n",
    "    2) What can we say about the student marks? \n"
   ]
  },
  {
   "cell_type": "code",
   "execution_count": 4,
   "id": "4addecfd",
   "metadata": {},
   "outputs": [
    {
     "data": {
      "text/plain": [
       "[34, 36, 36, 38, 38, 39, 39, 40, 40, 41, 41, 41, 41, 42, 42, 45, 49, 56]"
      ]
     },
     "execution_count": 4,
     "metadata": {},
     "output_type": "execute_result"
    }
   ],
   "source": [
    "import pandas as pd\n",
    "\n",
    "scores = [34,36,36,38,38,39,39,40,40,41,41,41,41,42,42,45,49,56]\n",
    "sorted(scores)"
   ]
  },
  {
   "cell_type": "code",
   "execution_count": 5,
   "id": "ffdc2317",
   "metadata": {},
   "outputs": [
    {
     "data": {
      "text/html": [
       "<div>\n",
       "<style scoped>\n",
       "    .dataframe tbody tr th:only-of-type {\n",
       "        vertical-align: middle;\n",
       "    }\n",
       "\n",
       "    .dataframe tbody tr th {\n",
       "        vertical-align: top;\n",
       "    }\n",
       "\n",
       "    .dataframe thead th {\n",
       "        text-align: right;\n",
       "    }\n",
       "</style>\n",
       "<table border=\"1\" class=\"dataframe\">\n",
       "  <thead>\n",
       "    <tr style=\"text-align: right;\">\n",
       "      <th></th>\n",
       "      <th>0</th>\n",
       "    </tr>\n",
       "  </thead>\n",
       "  <tbody>\n",
       "    <tr>\n",
       "      <th>count</th>\n",
       "      <td>18.000000</td>\n",
       "    </tr>\n",
       "    <tr>\n",
       "      <th>mean</th>\n",
       "      <td>41.000000</td>\n",
       "    </tr>\n",
       "    <tr>\n",
       "      <th>std</th>\n",
       "      <td>5.052664</td>\n",
       "    </tr>\n",
       "    <tr>\n",
       "      <th>min</th>\n",
       "      <td>34.000000</td>\n",
       "    </tr>\n",
       "    <tr>\n",
       "      <th>25%</th>\n",
       "      <td>38.250000</td>\n",
       "    </tr>\n",
       "    <tr>\n",
       "      <th>50%</th>\n",
       "      <td>40.500000</td>\n",
       "    </tr>\n",
       "    <tr>\n",
       "      <th>75%</th>\n",
       "      <td>41.750000</td>\n",
       "    </tr>\n",
       "    <tr>\n",
       "      <th>max</th>\n",
       "      <td>56.000000</td>\n",
       "    </tr>\n",
       "  </tbody>\n",
       "</table>\n",
       "</div>"
      ],
      "text/plain": [
       "               0\n",
       "count  18.000000\n",
       "mean   41.000000\n",
       "std     5.052664\n",
       "min    34.000000\n",
       "25%    38.250000\n",
       "50%    40.500000\n",
       "75%    41.750000\n",
       "max    56.000000"
      ]
     },
     "execution_count": 5,
     "metadata": {},
     "output_type": "execute_result"
    }
   ],
   "source": [
    "data = pd.DataFrame(data=scores)\n",
    "data.describe()"
   ]
  },
  {
   "cell_type": "code",
   "execution_count": 6,
   "id": "41758253",
   "metadata": {
    "scrolled": true
   },
   "outputs": [
    {
     "data": {
      "text/plain": [
       "4.910306620885412"
      ]
     },
     "execution_count": 6,
     "metadata": {},
     "output_type": "execute_result"
    }
   ],
   "source": [
    "# intermediate rough calculations\n",
    "\n",
    "np.sum(np.square(scores-np.mean(scores)))\n",
    "scores-np.mean(scores)\n",
    "np.square(scores-np.mean(scores))\n",
    "434/18\n",
    "np.var(scores)\n",
    "np.sqrt(np.var(scores))\n",
    "np.std(scores)"
   ]
  },
  {
   "cell_type": "markdown",
   "id": "543222a1",
   "metadata": {},
   "source": [
    "#### Q 20) \n",
    "Calculate probability from the given dataset for the below cases\n",
    "\n",
    "    Data _set: Cars.csv\n",
    "    Calculate the probability of MPG of Cars for the below cases.\n",
    "    MPG <- Cars$MPG\n",
    "    a. P(MPG>38)\n",
    "    b. P(MPG<40)\n",
    "    c. P(20<MPG<50)\n"
   ]
  },
  {
   "cell_type": "code",
   "execution_count": 7,
   "id": "ef981a5f",
   "metadata": {},
   "outputs": [
    {
     "data": {
      "text/plain": [
       "0.9009780258719399"
      ]
     },
     "execution_count": 7,
     "metadata": {},
     "output_type": "execute_result"
    }
   ],
   "source": [
    "from scipy.stats import norm\n",
    "\n",
    "mpg = [53.7,50.01,50.01,45.7,50.5,45.7,50.01,46.72,46.72,42.3,44.65,39.35,39.35,44.65,45.73,44.65,42.79,39.35,\n",
    "       42.79,38.9,38.41,42.83,38.31,40.47,38.31,38.41,38.41,38.41,43.47,35.4,39.43,39.43,36.29,36.29,39.53,37.96,\n",
    "       37.96,34.07,34.07,31.01,35.15,35.15,34.07,35.15,35.64,34.56,34.56,35.05,31.01,29.63,29.63,29.63,29.63,24.49,\n",
    "       26.85,27.86,31.11,29.63,30.13,28.86,27.35,24.61,23.52,23.52,23.61,40.05,23.1,23.1,23.1,21.27,19.68,23.2,23.2,\n",
    "       19.09,19.09,18.76,36.9,19.2,34,19.83,12.1]\n",
    "\n",
    "# 1-norm.cdf(38,np.mean(mpg),np.std(mpg))\n",
    "# norm.cdf(40,np.mean(mpg),np.std(mpg))\n",
    "\n",
    "area_A = norm.cdf(20, np.mean(mpg), np.std(mpg))\n",
    "area_B = norm.cdf(50, np.mean(mpg), np.std(mpg))\n",
    "\n",
    "area_B - area_A"
   ]
  },
  {
   "cell_type": "markdown",
   "id": "09c19bfa",
   "metadata": {},
   "source": [
    "#### Q 22) \n",
    "Calculate the Z scores of 90% confidence interval,94% confidence interval, 60% confidence interval"
   ]
  },
  {
   "cell_type": "code",
   "execution_count": 8,
   "id": "937bab7f",
   "metadata": {},
   "outputs": [
    {
     "name": "stdout",
     "output_type": "stream",
     "text": [
      "z60=0.2533471031357997, z90=1.2815515655446004, z94=1.5547735945968535\n"
     ]
    }
   ],
   "source": [
    "from scipy.stats import norm\n",
    "\n",
    "z60 = norm.ppf(0.6)\n",
    "z90 = norm.ppf(0.9)\n",
    "z94 = norm.ppf(0.94)\n",
    "\n",
    "print(\"z60={}, z90={}, z94={}\".format(z60,z90,z94))"
   ]
  },
  {
   "cell_type": "markdown",
   "id": "69f1f89c",
   "metadata": {},
   "source": [
    "#### Q 23) \n",
    "Calculate the t scores of 95% confidence interval, 96% confidence interval, 99% confidence interval for sample size of 25"
   ]
  },
  {
   "cell_type": "code",
   "execution_count": 9,
   "id": "eca8291c",
   "metadata": {},
   "outputs": [
    {
     "name": "stdout",
     "output_type": "stream",
     "text": [
      "t95=1.7108820799094275, t96=1.8280511719596342, t99=2.4921594731575762\n"
     ]
    }
   ],
   "source": [
    "from scipy.stats import t\n",
    "\n",
    "t95 = t.ppf(0.95,24)\n",
    "t96 = t.ppf(0.96,24)\n",
    "t99 = t.ppf(0.99,24)\n",
    "\n",
    "print(\"t95={}, t96={}, t99={}\".format(t95,t96,t99))"
   ]
  },
  {
   "cell_type": "markdown",
   "id": "17bf1c98",
   "metadata": {},
   "source": [
    "<hr/>"
   ]
  },
  {
   "cell_type": "markdown",
   "id": "bee8c439",
   "metadata": {},
   "source": [
    "#### Q 24)\n",
    "A Government  company claims that an average light bulb lasts 270 days. A researcher randomly selects 18 bulbs for testing. The sampled bulbs last an average of 260 days, with a standard deviation of 90 days. If the CEO's claim were true, what is the probability that 18 randomly selected bulbs would have an average life of no more than 260 days\n"
   ]
  },
  {
   "cell_type": "code",
   "execution_count": 10,
   "id": "83e5b1f6",
   "metadata": {},
   "outputs": [
    {
     "name": "stdout",
     "output_type": "stream",
     "text": [
      "t-value = -0.4714045207910317\n",
      "p-value = 0.6783274643290164\n"
     ]
    }
   ],
   "source": [
    "from scipy.stats import t\n",
    "import numpy as np\n",
    "\n",
    "mu = 270\n",
    "x_bar = 260\n",
    "n = 18\n",
    "s = 90\n",
    "\n",
    "t_value = (x_bar-mu)/(s/np.sqrt(n))\n",
    "print(\"t-value = {}\".format(t_value))\n",
    "\n",
    "# calculating P-value\n",
    "# For type-2 hypothesis and df = (n-1)...\n",
    "\n",
    "p_value = 1- t.cdf(t_value, (n-1))\n",
    "print(\"p-value = {}\".format(p_value))"
   ]
  },
  {
   "cell_type": "code",
   "execution_count": 11,
   "id": "40da404f",
   "metadata": {},
   "outputs": [
    {
     "name": "stdout",
     "output_type": "stream",
     "text": [
      "(CI=95%, one-tailed, dof=17) t_value = 1.7396067260750672\n"
     ]
    }
   ],
   "source": [
    "# Claim of the CEO that the average life of the bulbs produced by the company is more than 270 is true.\n",
    "# Therefore the t-value corresponding to 95% confidence interval (one tailed) at 17 dof is ...\n",
    "t_value1 = t.ppf(.95,17)\n",
    "print(\"(CI=95%, one-tailed, dof=17) t_value = {}\".format(t_value1))"
   ]
  },
  {
   "cell_type": "code",
   "execution_count": 12,
   "id": "2748437c",
   "metadata": {},
   "outputs": [
    {
     "name": "stdout",
     "output_type": "stream",
     "text": [
      "t-value = 2.21101124789554\n",
      "p260 = 0.9794872424398026\n",
      "Probability that the average life of bulbs is no more than 260 days is 0.020512757560197437\n"
     ]
    }
   ],
   "source": [
    "mu = 260\n",
    "x_bar = 306.9026314\n",
    "n = 18\n",
    "s = 90\n",
    "\n",
    "t_value = (x_bar-mu)/(s/np.sqrt(n))\n",
    "print(\"t-value = {}\".format(t_value))\n",
    "\n",
    "# calculating probability that the average life of bulbs is 260 days or more ...\n",
    "\n",
    "p260 = t.cdf(t_value, (n-1))\n",
    "print(\"p260 = {}\".format(p260))\n",
    "print(\"Probability that the average life of bulbs is no more than 260 days is {}\".format(1-p260))"
   ]
  }
 ],
 "metadata": {
  "kernelspec": {
   "display_name": "Python 3 (ipykernel)",
   "language": "python",
   "name": "python3"
  },
  "language_info": {
   "codemirror_mode": {
    "name": "ipython",
    "version": 3
   },
   "file_extension": ".py",
   "mimetype": "text/x-python",
   "name": "python",
   "nbconvert_exporter": "python",
   "pygments_lexer": "ipython3",
   "version": "3.9.13"
  }
 },
 "nbformat": 4,
 "nbformat_minor": 5
}
